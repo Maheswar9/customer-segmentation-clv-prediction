{
 "cells": [
  {
   "cell_type": "code",
   "execution_count": null,
   "id": "85921449",
   "metadata": {},
   "outputs": [],
   "source": [
    "import pandas as pd\n",
    "import numpy as np\n",
    "\n",
    "# Load cleaned dataset\n",
    "df = pd.read_csv(\"data/new_clean/cleaned_online_retail.csv\")\n",
    "\n",
    "# Ensure InvoiceDate is parsed correctly as datetime\n",
    "df['InvoiceDate'] = pd.to_datetime(df['InvoiceDate'])\n",
    "\n",
    "# Add Revenue column\n",
    "df['Revenue'] = df['Quantity'] * df['Price']\n",
    "\n",
    "# Define snapshot date (1 day after last transaction)\n",
    "snapshot_date = df['InvoiceDate'].max() + pd.Timedelta(days=1)\n",
    "print(f\"Snapshot date for recency calculation: {snapshot_date.date()}\")\n",
    "\n",
    "# Group by Customer ID and calculate R, F, M\n",
    "rfm = df.groupby('Customer ID').agg({\n",
    "    'InvoiceDate': lambda x: (snapshot_date - x.max()).days,  # Recency\n",
    "    'Invoice': 'nunique',                                     # Frequency\n",
    "    'Revenue': 'sum'                                          # Monetary\n",
    "})\n",
    "\n",
    "# Rename columns\n",
    "rfm.rename(columns={\n",
    "    'InvoiceDate': 'Recency',\n",
    "    'Invoice': 'Frequency',\n",
    "    'Revenue': 'Monetary'\n",
    "}, inplace=True)\n",
    "\n",
    "# Optional: remove customers with Monetary <= 0 (should be rare after cleaning)\n",
    "rfm = rfm[rfm['Monetary'] > 0]\n",
    "\n",
    "# Preview\n",
    "print(\"RFM table preview:\")\n",
    "print(rfm.head(10))\n",
    "rfm.to_csv(\"data/rfm/rfm_table.csv\")\n"
   ]
  }
 ],
 "metadata": {
  "kernelspec": {
   "display_name": "venv",
   "language": "python",
   "name": "python3"
  },
  "language_info": {
   "codemirror_mode": {
    "name": "ipython",
    "version": 3
   },
   "file_extension": ".py",
   "mimetype": "text/x-python",
   "name": "python",
   "nbconvert_exporter": "python",
   "pygments_lexer": "ipython3",
   "version": "3.13.4"
  }
 },
 "nbformat": 4,
 "nbformat_minor": 5
}
