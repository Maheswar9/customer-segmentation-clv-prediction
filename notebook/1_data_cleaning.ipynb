{
 "cells": [
  {
   "cell_type": "code",
   "execution_count": 2,
   "id": "48b117b4",
   "metadata": {},
   "outputs": [
    {
     "name": "stdout",
     "output_type": "stream",
     "text": [
      "Requirement already satisfied: pandas in c:\\users\\npg\\desktop\\maheswar\\customer segmentation +clv prediction\\venv\\lib\\site-packages (2.3.1)\n",
      "Requirement already satisfied: numpy>=1.26.0 in c:\\users\\npg\\desktop\\maheswar\\customer segmentation +clv prediction\\venv\\lib\\site-packages (from pandas) (2.3.1)\n",
      "Requirement already satisfied: python-dateutil>=2.8.2 in c:\\users\\npg\\desktop\\maheswar\\customer segmentation +clv prediction\\venv\\lib\\site-packages (from pandas) (2.9.0.post0)\n",
      "Requirement already satisfied: pytz>=2020.1 in c:\\users\\npg\\desktop\\maheswar\\customer segmentation +clv prediction\\venv\\lib\\site-packages (from pandas) (2025.2)\n",
      "Requirement already satisfied: tzdata>=2022.7 in c:\\users\\npg\\desktop\\maheswar\\customer segmentation +clv prediction\\venv\\lib\\site-packages (from pandas) (2025.2)\n",
      "Requirement already satisfied: six>=1.5 in c:\\users\\npg\\desktop\\maheswar\\customer segmentation +clv prediction\\venv\\lib\\site-packages (from python-dateutil>=2.8.2->pandas) (1.17.0)\n"
     ]
    }
   ],
   "source": [
    "!pip install pandas\n",
    "import pandas as pd"
   ]
  },
  {
   "cell_type": "code",
   "execution_count": 3,
   "id": "9e1eaf4e",
   "metadata": {},
   "outputs": [
    {
     "name": "stdout",
     "output_type": "stream",
     "text": [
      "Requirement already satisfied: openpyxl in c:\\users\\npg\\desktop\\maheswar\\customer segmentation +clv prediction\\venv\\lib\\site-packages (3.1.5)\n",
      "Requirement already satisfied: et-xmlfile in c:\\users\\npg\\desktop\\maheswar\\customer segmentation +clv prediction\\venv\\lib\\site-packages (from openpyxl) (2.0.0)\n"
     ]
    }
   ],
   "source": [
    "!pip install openpyxl"
   ]
  },
  {
   "cell_type": "code",
   "execution_count": 4,
   "id": "85436bf2",
   "metadata": {},
   "outputs": [
    {
     "name": "stdout",
     "output_type": "stream",
     "text": [
      "Requirement already satisfied: openpyxl in c:\\users\\npg\\desktop\\maheswar\\customer segmentation +clv prediction\\venv\\lib\\site-packages (3.1.5)\n",
      "Requirement already satisfied: et-xmlfile in c:\\users\\npg\\desktop\\maheswar\\customer segmentation +clv prediction\\venv\\lib\\site-packages (from openpyxl) (2.0.0)\n",
      "Loading dataset...\n",
      "Raw data shape: (541910, 8)\n"
     ]
    }
   ],
   "source": [
    "##Load dataset\n",
    "!pip install openpyxl \n",
    "file_path = \"C:/Users/NPG/Desktop/maheswar/customer segmentation +clv prediction/data/raw/online_retail_II.xlsx\" ## Adjust path as needed\n",
    "sheet_name = \"Year 2010-2011\"\n",
    "\n",
    "print(\"Loading dataset...\")\n",
    "df = pd.read_excel(file_path, sheet_name=sheet_name, engine='openpyxl')\n",
    "print(f\"Raw data shape: {df.shape}\")\n"
   ]
  },
  {
   "cell_type": "code",
   "execution_count": 9,
   "id": "b75f7eda",
   "metadata": {},
   "outputs": [
    {
     "name": "stdout",
     "output_type": "stream",
     "text": [
      "After removing cancellations: (392733, 8)\n"
     ]
    }
   ],
   "source": [
    "# Remove cancellations\n",
    "df = df[~df['Invoice'].astype(str).str.startswith('C')]\n",
    "print(f\"After removing cancellations: {df.shape}\")\n"
   ]
  },
  {
   "cell_type": "code",
   "execution_count": 10,
   "id": "4c585269",
   "metadata": {},
   "outputs": [
    {
     "name": "stdout",
     "output_type": "stream",
     "text": [
      "After removing negative/zero quantities: (392733, 8)\n"
     ]
    }
   ],
   "source": [
    "# Remove negative or zero Quantity\n",
    "df = df[df['Quantity'] > 0]\n",
    "print(f\"After removing negative/zero quantities: {df.shape}\")\n"
   ]
  },
  {
   "cell_type": "code",
   "execution_count": 11,
   "id": "66fc363b",
   "metadata": {},
   "outputs": [
    {
     "name": "stdout",
     "output_type": "stream",
     "text": [
      "After dropping missing Customer ID: (392733, 8)\n"
     ]
    }
   ],
   "source": [
    "# Drop rows with missing Customer ID\n",
    "df = df.dropna(subset=['Customer ID'])\n",
    "print(f\"After dropping missing Customer ID: {df.shape}\")\n"
   ]
  },
  {
   "cell_type": "code",
   "execution_count": 12,
   "id": "9591a2b1",
   "metadata": {},
   "outputs": [
    {
     "name": "stdout",
     "output_type": "stream",
     "text": [
      "After removing duplicates: (392733, 8)\n"
     ]
    }
   ],
   "source": [
    "# Remove duplicates\n",
    "df = df.drop_duplicates()\n",
    "print(f\"After removing duplicates: {df.shape}\")\n"
   ]
  },
  {
   "cell_type": "code",
   "execution_count": 13,
   "id": "4f7e14e0",
   "metadata": {},
   "outputs": [
    {
     "name": "stdout",
     "output_type": "stream",
     "text": [
      "Missing values per column:\n",
      "Invoice        0\n",
      "StockCode      0\n",
      "Description    0\n",
      "Quantity       0\n",
      "InvoiceDate    0\n",
      "Price          0\n",
      "Customer ID    0\n",
      "Country        0\n",
      "dtype: int64\n",
      "New dataset shape after removing rows with Price == 0: (392693, 8)\n"
     ]
    }
   ],
   "source": [
    "# Check missing values in all columns\n",
    "print(\"Missing values per column:\")\n",
    "print(df.isnull().sum())\n",
    "# Remove rows where Price == 0\n",
    "df = df[df['Price'] > 0]\n",
    "\n",
    "print(f\"New dataset shape after removing rows with Price == 0: {df.shape}\")\n"
   ]
  },
  {
   "cell_type": "code",
   "execution_count": 14,
   "id": "4a90c713",
   "metadata": {},
   "outputs": [
    {
     "name": "stdout",
     "output_type": "stream",
     "text": [
      "Cleaned data saved to: data/new_clean/cleaned_online_retail.csv\n",
      "0\n"
     ]
    }
   ],
   "source": [
    "# Save cleaned dataset\n",
    "output_path = \"data/new_clean/cleaned_online_retail.csv\"\n",
    "df.to_csv(output_path, index=False)\n",
    "print(f\"Cleaned data saved to: {output_path}\")\n",
    "print(df[df['Price'] == 0].shape[0])\n"
   ]
  }
 ],
 "metadata": {
  "kernelspec": {
   "display_name": "venv",
   "language": "python",
   "name": "python3"
  },
  "language_info": {
   "codemirror_mode": {
    "name": "ipython",
    "version": 3
   },
   "file_extension": ".py",
   "mimetype": "text/x-python",
   "name": "python",
   "nbconvert_exporter": "python",
   "pygments_lexer": "ipython3",
   "version": "3.13.4"
  }
 },
 "nbformat": 4,
 "nbformat_minor": 5
}
