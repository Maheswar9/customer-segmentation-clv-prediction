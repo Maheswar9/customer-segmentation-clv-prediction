{
 "cells": [
  {
   "cell_type": "code",
   "execution_count": null,
   "id": "48b117b4",
   "metadata": {},
   "outputs": [],
   "source": [
    "%pip install pandas\n",
    "import pandas as pd\n",
    "%pip install openpyxl\n",
    "##Load dataset\n",
    "%pip install openpyxl \n",
    "file_path = \"C:/Users/NPG/Desktop/maheswar/customer segmentation +clv prediction/data/raw/online_retail_II.xlsx\" ## Adjust path as needed\n",
    "sheet_name = \"Year 2010-2011\"\n",
    "\n",
    "print(\"Loading dataset...\")\n",
    "df = pd.read_excel(file_path, sheet_name=sheet_name, engine='openpyxl')\n",
    "print(f\"Raw data shape: {df.shape}\")\n",
    "\n",
    "# Remove cancellations\n",
    "df = df[~df['Invoice'].astype(str).str.startswith('C')]\n",
    "print(f\"After removing cancellations: {df.shape}\")\n",
    "\n",
    "# Remove negative or zero Quantity\n",
    "df = df[df['Quantity'] > 0]\n",
    "print(f\"After removing negative/zero quantities: {df.shape}\")\n",
    "\n",
    "# Drop rows with missing Customer ID\n",
    "df = df.dropna(subset=['Customer ID'])\n",
    "print(f\"After dropping missing Customer ID: {df.shape}\")\n",
    "\n",
    "# Remove duplicates\n",
    "df = df.drop_duplicates()\n",
    "print(f\"After removing duplicates: {df.shape}\")\n",
    "\n",
    "# Check missing values in all columns\n",
    "print(\"Missing values per column:\")\n",
    "print(df.isnull().sum())\n",
    "# Remove rows where Price == 0\n",
    "df = df[df['Price'] > 0]\n",
    "\n",
    "print(f\"New dataset shape after removing rows with Price == 0: {df.shape}\")\n",
    "\n",
    "# Save cleaned dataset\n",
    "output_path = \"data/new_clean/cleaned_online_retail.csv\"\n",
    "df.to_csv(output_path, index=False)\n",
    "print(f\"Cleaned data saved to: {output_path}\")\n",
    "print(df[df['Price'] == 0].shape[0])\n"
   ]
  }
 ],
 "metadata": {
  "kernelspec": {
   "display_name": "venv",
   "language": "python",
   "name": "python3"
  },
  "language_info": {
   "codemirror_mode": {
    "name": "ipython",
    "version": 3
   },
   "file_extension": ".py",
   "mimetype": "text/x-python",
   "name": "python",
   "nbconvert_exporter": "python",
   "pygments_lexer": "ipython3",
   "version": "3.13.4"
  }
 },
 "nbformat": 4,
 "nbformat_minor": 5
}
